{
 "cells": [
  {
   "cell_type": "code",
   "execution_count": 15,
   "id": "51f3195f-e595-4743-8219-f9ad3c2c572a",
   "metadata": {},
   "outputs": [],
   "source": [
    "import h5py\n",
    "import pathlib\n",
    "from tqdm import tqdm\n",
    "\n",
    "import ipywidgets as widgets\n",
    "import matplotlib.pyplot as plt\n",
    "import nrrd\n",
    "import numpy as np\n",
    "import skimage.transform as st\n",
    "from numpy import ma\n",
    "from sklearn.metrics import normalized_mutual_info_score\n",
    "\n",
    "from atlalign.visualization import create_segmentation_image\n",
    "from atlannot.evaluation import entropy\n",
    "from atlannot.utils import edge_sobel, edge_laplacian_thin"
   ]
  },
  {
   "cell_type": "markdown",
   "id": "8724d6d7-12f8-43f9-b40d-396fdd0ff3bb",
   "metadata": {},
   "source": [
    "### Data"
   ]
  },
  {
   "cell_type": "markdown",
   "id": "c41ccf5f-6b58-48df-9ecd-e8b1e89af31c",
   "metadata": {},
   "source": [
    "To experiment with Nissl from Allen Brain (modified): https://zenodo.org/record/4486659#.YvugLGFBzmF"
   ]
  },
  {
   "cell_type": "code",
   "execution_count": 19,
   "id": "8c45b2e3-3fd3-49da-8eba-211eede54909",
   "metadata": {},
   "outputs": [],
   "source": [
    "nissl_path = pathlib.Path(\"/raid/users/edelattr/deal/annotation/data/ara_nissl_25.nrrd\")\n",
    "ccfv2_path = pathlib.Path(\"/raid/users/edelattr/deal/annotation/data/annotation_25_2011_full.nrrd\")"
   ]
  },
  {
   "cell_type": "markdown",
   "id": "7ce88ea8-1401-4829-b2f8-17fa9c127e7e",
   "metadata": {},
   "source": [
    "Load Nissl and compute minimum and maximum intensity "
   ]
  },
  {
   "cell_type": "code",
   "execution_count": 74,
   "id": "291afa36-951a-4915-96f1-8e6b8dad5c17",
   "metadata": {},
   "outputs": [],
   "source": [
    "nissl, nissl_header = nrrd.read(nissl_path)\n",
    "nissl_min = nissl.min()\n",
    "nissl_max = nissl.max()"
   ]
  },
  {
   "cell_type": "code",
   "execution_count": 16,
   "id": "63b8358c-3dce-41e6-b44d-5c692eddd443",
   "metadata": {},
   "outputs": [],
   "source": [
    "volumes = h5py.File(\"/raid/users/edelattr/deal/ccf2017-mod65000-border-centered-mm-bc.h5\", \"r\")\n",
    "nissl_10 = volumes['t00000']['s00']['0']['cells']\n",
    "nissl_10 = np.transpose(nissl_10, (2, 1, 0))\n",
    "nissl = st.resize(nissl_10, (528, 320, 456))"
   ]
  },
  {
   "cell_type": "code",
   "execution_count": 75,
   "id": "af62cd36-0c1a-48a3-9816-c9b3a340b5c2",
   "metadata": {},
   "outputs": [
    {
     "data": {
      "text/plain": [
       "(528, 320, 456)"
      ]
     },
     "execution_count": 75,
     "metadata": {},
     "output_type": "execute_result"
    }
   ],
   "source": [
    "nissl.shape"
   ]
  },
  {
   "cell_type": "markdown",
   "id": "ba279869-87ad-46aa-a89c-3fffce6d17df",
   "metadata": {},
   "source": [
    "Load corresponding annotation volume (ccfv2)"
   ]
  },
  {
   "cell_type": "code",
   "execution_count": 76,
   "id": "036d6f15-85b3-43a2-bf0b-c6319c5583f4",
   "metadata": {},
   "outputs": [],
   "source": [
    "ccfv2, _ = nrrd.read(ccfv2_path)"
   ]
  },
  {
   "cell_type": "markdown",
   "id": "79003cdd-b2c3-4b4a-83d4-d1f606ceb96b",
   "metadata": {},
   "source": [
    "### Utils"
   ]
  },
  {
   "cell_type": "code",
   "execution_count": 77,
   "id": "ddf2523b-b48f-4d91-8d8f-a59d7bc568e9",
   "metadata": {},
   "outputs": [],
   "source": [
    "_, color_map = create_segmentation_image(np.unique(ccfv2))"
   ]
  },
  {
   "cell_type": "code",
   "execution_count": 78,
   "id": "ea113161-b72f-4ee1-aca2-6ce051b5d4db",
   "metadata": {},
   "outputs": [],
   "source": [
    "def volumes_visualization(volumes, is_atlas, titles=None):\n",
    "    @widgets.interact(\n",
    "        axis = widgets.Dropdown(\n",
    "            options=[('Coronal', 0), ('Transverse', 1), ('Sagittal', 2)],\n",
    "            value=1,\n",
    "            description='Axis:',\n",
    "            disabled=False,),\n",
    "    )\n",
    "    def results_vis(axis):\n",
    "\n",
    "        volumes_tmp = [np.moveaxis(v, axis, 0) for v in volumes]\n",
    "\n",
    "        @widgets.interact(\n",
    "        slide = widgets.IntSlider(\n",
    "            min=0,\n",
    "            max=volumes_tmp[0].shape[0],\n",
    "            description='Section:',\n",
    "            disabled=False,),\n",
    "        )\n",
    "        def results_vis1(slide):\n",
    "            fig, ax = plt.subplots(1, len(volumes_tmp), figsize=(25, 20))\n",
    "            if len(volumes_tmp) == 1:\n",
    "                if titles is not None:\n",
    "                    ax.set_title(titles[0])\n",
    "                ax.axes.get_xaxis().set_ticks([])\n",
    "                ax.axes.get_yaxis().set_ticks([]) \n",
    "                if is_atlas[0] == True:\n",
    "                    ax.imshow(create_segmentation_image(volumes_tmp[0][slide].astype(np.int), color_map)[0])\n",
    "                else:\n",
    "                    ax.imshow(volumes_tmp[0][slide])\n",
    "                \n",
    "            else:\n",
    "                for i, (vol, is_atl) in enumerate(zip(volumes_tmp, is_atlas)):\n",
    "                    ax[i].axes.get_xaxis().set_ticks([])\n",
    "                    ax[i].axes.get_yaxis().set_ticks([])\n",
    "                    if titles is not None:\n",
    "                        ax[i].set_title(titles[i])\n",
    "                    if is_atl == True:\n",
    "                        ax[i].imshow(create_segmentation_image(vol[slide].astype(np.int), color_map)[0])\n",
    "                    else:\n",
    "                        ax[i].imshow(vol[slide])"
   ]
  },
  {
   "cell_type": "code",
   "execution_count": 79,
   "id": "8c3e3756-483b-4e91-b97e-c6ade364ed38",
   "metadata": {},
   "outputs": [],
   "source": [
    "def conditional_entropy(\n",
    "    nissl: np.ndarray,\n",
    "    atlas: np.ndarray,\n",
    "    value_range,\n",
    ") -> float:\n",
    "    weighted_entropies = []\n",
    "    n_voxels = 0\n",
    "    for label, count in zip(*np.unique(atlas, return_counts=True)):\n",
    "        if label == 0:  # skip background\n",
    "            continue\n",
    "        n_voxels += count\n",
    "        nissl_region = ma.masked_where(atlas != label, nissl)\n",
    "        entropy_score = entropy(nissl_region, value_range=value_range)\n",
    "        weighted_entropies.append(entropy_score * count)\n",
    "\n",
    "    return np.sum(weighted_entropies) / n_voxels"
   ]
  },
  {
   "cell_type": "markdown",
   "id": "4b488ece-9abb-47dd-912d-d466e6152231",
   "metadata": {},
   "source": [
    "### Checks"
   ]
  },
  {
   "cell_type": "markdown",
   "id": "7c286e55-8c8a-4195-beae-73367ab58a56",
   "metadata": {},
   "source": [
    "Is CCFv2 symmetric?"
   ]
  },
  {
   "cell_type": "code",
   "execution_count": 80,
   "id": "3eed1e53-6fc5-4b84-853e-6a5708b43aa4",
   "metadata": {},
   "outputs": [],
   "source": [
    "ccfv2_left = ccfv2[:, :, :228]\n",
    "ccfv2_right = ccfv2[:, :, 228:]"
   ]
  },
  {
   "cell_type": "code",
   "execution_count": 81,
   "id": "ca71308c-c4e9-40ed-a96a-9b1037ccce11",
   "metadata": {},
   "outputs": [],
   "source": [
    "ccfv2_right_flip = np.flip(ccfv2_right, axis=2)"
   ]
  },
  {
   "cell_type": "code",
   "execution_count": 82,
   "id": "de762709-9e75-41e4-b3da-be984f7b5c4a",
   "metadata": {},
   "outputs": [
    {
     "data": {
      "text/plain": [
       "True"
      ]
     },
     "execution_count": 82,
     "metadata": {},
     "output_type": "execute_result"
    }
   ],
   "source": [
    "np.all(ccfv2_left == ccfv2_right_flip)"
   ]
  },
  {
   "cell_type": "markdown",
   "id": "c0859abb-ab5b-402e-88a6-d92fcd7bb1c0",
   "metadata": {},
   "source": [
    "Is Nissl symmetric?"
   ]
  },
  {
   "cell_type": "code",
   "execution_count": 83,
   "id": "d635f5b2-d5f5-477e-ad66-590d42208c10",
   "metadata": {},
   "outputs": [],
   "source": [
    "nissl_left = nissl[:, :, :228]\n",
    "nissl_left_flip = np.flip(nissl_left, axis=2)\n",
    "nissl_right = nissl[:, :, 228:]\n",
    "nissl_right_flip = np.flip(nissl_right, axis=2)"
   ]
  },
  {
   "cell_type": "code",
   "execution_count": 84,
   "id": "81770171-e919-4c54-bfe5-0033d45e7998",
   "metadata": {},
   "outputs": [],
   "source": [
    "symmetric_slice = []\n",
    "for i, (nissl_left_slice, nissl_right_flip_slice) in enumerate(zip(nissl_left, nissl_right_flip)):\n",
    "    if np.allclose(nissl_left_slice, nissl_right_flip_slice, rtol=0):\n",
    "        symmetric_slice.append(i)"
   ]
  },
  {
   "cell_type": "code",
   "execution_count": 85,
   "id": "c8bfc9e8-8632-4c8b-88a7-d19ae04cf399",
   "metadata": {},
   "outputs": [
    {
     "data": {
      "text/plain": [
       "0"
      ]
     },
     "execution_count": 85,
     "metadata": {},
     "output_type": "execute_result"
    }
   ],
   "source": [
    "len(symmetric_slice)"
   ]
  },
  {
   "cell_type": "code",
   "execution_count": 86,
   "id": "34de987d-d1ed-4416-9fad-3f4f84517d49",
   "metadata": {},
   "outputs": [
    {
     "data": {
      "application/vnd.jupyter.widget-view+json": {
       "model_id": "3d1f25b3dfc04e039eeb974292cefdb2",
       "version_major": 2,
       "version_minor": 0
      },
      "text/plain": [
       "interactive(children=(Dropdown(description='Axis:', index=1, options=(('Coronal', 0), ('Transverse', 1), ('Sag…"
      ]
     },
     "metadata": {},
     "output_type": "display_data"
    }
   ],
   "source": [
    "volumes_visualization([np.abs(nissl_left_flip - nissl_right), nissl], [False, False])"
   ]
  },
  {
   "cell_type": "markdown",
   "id": "0dfbaf61-8ee3-4cf3-a742-4586385a6137",
   "metadata": {},
   "source": [
    "### Make Nissl Symmetric"
   ]
  },
  {
   "cell_type": "markdown",
   "id": "7138173b-a9ce-4fcf-9b51-dde0f7d069ed",
   "metadata": {},
   "source": [
    "Compute which half of every coronal slice **normalized mutual information**"
   ]
  },
  {
   "cell_type": "code",
   "execution_count": 87,
   "id": "28f2a657-3261-4b6d-a57d-75bfa3b4105e",
   "metadata": {},
   "outputs": [],
   "source": [
    "# left_better_nmi = []\n",
    "# all_conditional_nmi_left = []\n",
    "# all_conditional_nmi_right = []\n",
    "# for i, (left_slice, right_slice, left_annot, right_annot) in tqdm(enumerate(zip(nissl_left, nissl_right_flip, ccfv2_left, ccfv2_right_flip))):\n",
    "#     conditional_nmi_left = normalized_mutual_info_score(left_annot.ravel(), left_slice.ravel())\n",
    "#     conditional_nmi_right = normalized_mutual_info_score(right_annot.ravel(), right_slice.ravel())\n",
    "#     all_conditional_nmi_left.append(conditional_nmi_left)\n",
    "#     all_conditional_nmi_right.append(conditional_nmi_right)\n",
    "#     if conditional_nmi_left > conditional_nmi_right:\n",
    "#         left_better_nmi.append(i)"
   ]
  },
  {
   "cell_type": "code",
   "execution_count": 88,
   "id": "dd5d4fb8-255b-440f-b161-834550a91708",
   "metadata": {},
   "outputs": [
    {
     "name": "stdout",
     "output_type": "stream",
     "text": [
      "[522]\n"
     ]
    }
   ],
   "source": [
    "print(left_better_nmi)"
   ]
  },
  {
   "cell_type": "code",
   "execution_count": 89,
   "id": "d1c21280-1843-404b-996d-a5cbbc9d4620",
   "metadata": {},
   "outputs": [
    {
     "data": {
      "text/plain": [
       "<BarContainer object of 528 artists>"
      ]
     },
     "execution_count": 89,
     "metadata": {},
     "output_type": "execute_result"
    },
    {
     "data": {
      "image/png": "[encoded data removed]",
      "text/plain": [
       "<Figure size 864x576 with 1 Axes>"
      ]
     },
     "metadata": {
      "needs_background": "light"
     },
     "output_type": "display_data"
    }
   ],
   "source": [
    "fig, ax = plt.subplots(figsize=(12, 8))\n",
    "ax.bar(np.arange(0, 528), np.abs(np.array(all_conditional_nmi_left) - np.array(all_conditional_nmi_right)))"
   ]
  },
  {
   "cell_type": "markdown",
   "id": "af3d2149-5814-464f-9a09-a6a9d692738c",
   "metadata": {},
   "source": [
    "Compute which half of every coronal slice **entropy**"
   ]
  },
  {
   "cell_type": "code",
   "execution_count": 90,
   "id": "c29859a9-ed9a-4bd2-8b09-224a8675ead0",
   "metadata": {},
   "outputs": [
    {
     "name": "stderr",
     "output_type": "stream",
     "text": [
      "0it [00:00, ?it/s]/usr/local/lib/python3.7/dist-packages/ipykernel_launcher.py:16: RuntimeWarning:\n",
      "\n",
      "invalid value encountered in double_scalars\n",
      "\n",
      "528it [02:11,  4.02it/s]\n"
     ]
    }
   ],
   "source": [
    "left_better = []\n",
    "entropy_diff = []\n",
    "for i, (left_slice, right_slice, left_annot, right_annot) in tqdm(enumerate(zip(nissl_left, nissl_right_flip, ccfv2_left, ccfv2_right_flip))):\n",
    "    conditional_entropy_left = conditional_entropy(left_slice, left_annot, value_range=(nissl_min, nissl_max))\n",
    "    conditional_entropy_right = conditional_entropy(right_slice, right_annot, value_range=(nissl_min, nissl_max))\n",
    "    entropy_diff.append(conditional_entropy_left - conditional_entropy_right)\n",
    "    if conditional_entropy_left < conditional_entropy_right:\n",
    "        left_better.append(i)"
   ]
  },
  {
   "cell_type": "code",
   "execution_count": 91,
   "id": "5b03bb6c-40fa-4986-be7c-440e5b24f66e",
   "metadata": {},
   "outputs": [
    {
     "name": "stdout",
     "output_type": "stream",
     "text": [
      "64\n",
      "[1, 2, 3, 4, 5, 6, 7, 8, 9, 10, 11, 83, 174, 194, 218, 221, 225, 239, 248, 278, 288, 289, 290, 296, 310, 328, 345, 347, 359, 375, 379, 380, 383, 384, 386, 387, 396, 397, 398, 401, 402, 403, 404, 406, 411, 412, 413, 418, 419, 420, 504, 507, 508, 510, 517, 518, 519, 520, 521, 522, 523, 524, 525, 526]\n"
     ]
    }
   ],
   "source": [
    "print(len(left_better))\n",
    "print(left_better)"
   ]
  },
  {
   "cell_type": "code",
   "execution_count": 92,
   "id": "9c3f19c6-09d2-4c66-8186-ca7401d50288",
   "metadata": {},
   "outputs": [
    {
     "data": {
      "text/plain": [
       "<BarContainer object of 528 artists>"
      ]
     },
     "execution_count": 92,
     "metadata": {},
     "output_type": "execute_result"
    },
    {
     "data": {
      "image/png": "[encoded data removed]",
      "text/plain": [
       "<Figure size 864x576 with 1 Axes>"
      ]
     },
     "metadata": {
      "needs_background": "light"
     },
     "output_type": "display_data"
    }
   ],
   "source": [
    "fig, ax = plt.subplots(figsize=(12, 8))\n",
    "ax.bar(np.arange(0, 528), np.abs(entropy_diff))"
   ]
  },
  {
   "cell_type": "code",
   "execution_count": 93,
   "id": "93958a1b-0066-426d-b891-a92c672ba76c",
   "metadata": {},
   "outputs": [],
   "source": [
    "boundaries = np.array([edge_laplacian_thin(ccfv2_slice) for ccfv2_slice in ccfv2])"
   ]
  },
  {
   "cell_type": "code",
   "execution_count": 94,
   "id": "00d734b2-4cf3-4ce3-a7e1-a7c87bec1ac1",
   "metadata": {},
   "outputs": [],
   "source": [
    "nissl_plus_boundaries = (nissl / nissl_max) + (boundaries / boundaries.max())"
   ]
  },
  {
   "cell_type": "code",
   "execution_count": 95,
   "id": "b7bcba07-b3f7-4eba-86c1-ebdc7b00dfc0",
   "metadata": {},
   "outputs": [
    {
     "data": {
      "application/vnd.jupyter.widget-view+json": {
       "model_id": "c87c239b76aa4e16b2307bcfb7af3cd8",
       "version_major": 2,
       "version_minor": 0
      },
      "text/plain": [
       "interactive(children=(Dropdown(description='Axis:', index=1, options=(('Coronal', 0), ('Transverse', 1), ('Sag…"
      ]
     },
     "metadata": {},
     "output_type": "display_data"
    }
   ],
   "source": [
    "def nissl_vis(volumes, titles=None):\n",
    "    @widgets.interact(\n",
    "        axis = widgets.Dropdown(\n",
    "            options=[('Coronal', 0), ('Transverse', 1), ('Sagittal', 2)],\n",
    "            value=1,\n",
    "            description='Axis:',\n",
    "            disabled=False,),\n",
    "    )\n",
    "    def results_vis(axis):\n",
    "\n",
    "        volumes_tmp = [np.moveaxis(v, axis, 0) for v in volumes]\n",
    "\n",
    "        @widgets.interact(\n",
    "        slide = widgets.IntSlider(\n",
    "            min=0,\n",
    "            max=volumes_tmp[0].shape[0],\n",
    "            description='Section:',\n",
    "            disabled=False,),\n",
    "        )\n",
    "        def results_vis1(slide):\n",
    "            fig, ax = plt.subplots(1, len(volumes_tmp), figsize=(25, 20))\n",
    "            \n",
    "            if slide in left_better:\n",
    "                ax.set_title(\"Left better\")\n",
    "            else:\n",
    "                ax.set_title(\"Right better\")\n",
    "            ax.axes.get_xaxis().set_ticks([])\n",
    "            ax.axes.get_yaxis().set_ticks([]) \n",
    "            ax.imshow(volumes_tmp[0][slide])\n",
    "\n",
    "nissl_vis([nissl_plus_boundaries])"
   ]
  },
  {
   "cell_type": "markdown",
   "id": "c92e4aad-01b5-467d-bb80-cc36dca86f59",
   "metadata": {},
   "source": [
    "Reconstruct Nissl by taking the half with the best entropy"
   ]
  },
  {
   "cell_type": "code",
   "execution_count": 96,
   "id": "61cb11d4-1af5-4fe6-a263-5e8c31aaf5f3",
   "metadata": {},
   "outputs": [],
   "source": [
    "new_nissl = np.zeros_like(nissl)\n",
    "for i in range(528):\n",
    "    if i in left_better:\n",
    "        new_nissl[i, :, :228] = nissl_left[i]\n",
    "        new_nissl[i, :, 228:] = nissl_left_flip[i]\n",
    "    else:\n",
    "        new_nissl[i, :, :228] = nissl_right_flip[i]\n",
    "        new_nissl[i, :, 228:] = nissl_right[i]"
   ]
  },
  {
   "cell_type": "code",
   "execution_count": 97,
   "id": "8f230d92-eb7c-4a25-ab94-e40c2a3c7ff1",
   "metadata": {},
   "outputs": [],
   "source": [
    "nissl_with_middle_line = nissl.copy()\n",
    "nissl_with_middle_line[:, :, 227:229] = nissl_max"
   ]
  },
  {
   "cell_type": "code",
   "execution_count": 98,
   "id": "7aba9f2d-1946-4327-b7e8-bcf90b019fdc",
   "metadata": {},
   "outputs": [
    {
     "data": {
      "application/vnd.jupyter.widget-view+json": {
       "model_id": "d367945c663541ec99717a1fa7cb91c2",
       "version_major": 2,
       "version_minor": 0
      },
      "text/plain": [
       "interactive(children=(Dropdown(description='Axis:', index=1, options=(('Coronal', 0), ('Transverse', 1), ('Sag…"
      ]
     },
     "metadata": {},
     "output_type": "display_data"
    }
   ],
   "source": [
    "volumes_visualization([(nissl_with_middle_line / nissl_max) + (boundaries / boundaries.max()), nissl, new_nissl], [False, False, False])"
   ]
  },
  {
   "cell_type": "markdown",
   "id": "8b9ff5c4-fff3-418f-b85b-251b8a1285ea",
   "metadata": {},
   "source": [
    "Results and interpretation\n",
    "- Normalized mutual information (NMI) seems to be higher for most of the slices (and for the rest, the difference is very small)\n",
    "- Visually, the annotation ccfv2 seems to be drawn on top of the left hemisphere of the brain (mainly visible at the olfactory bulb and cerebellum area)\n",
    "- Most of the slices where the entropy is better in the right hemisphere are at the olfactory bulb and the end of the cerebellum (where the quality of the images are not great - presence of holes)\n",
    "- Entropy difference are higher for the olfactory bulb and the cerebellum because the metric is sensitive to the big variations of intensity"
   ]
  },
  {
   "cell_type": "markdown",
   "id": "253ba028-c11b-42bc-9fbd-ec42910e891b",
   "metadata": {},
   "source": [
    "Always take the right side for the entire volume "
   ]
  },
  {
   "cell_type": "code",
   "execution_count": 99,
   "id": "a050bf92-6a5a-4156-9c74-6d6efcaf494b",
   "metadata": {},
   "outputs": [],
   "source": [
    "new_nissl_right = np.zeros_like(nissl)\n",
    "for i in range(528):\n",
    "    new_nissl_right[i, :, :228] = nissl_right_flip[i]\n",
    "    new_nissl_right[i, :, 228:] = nissl_right[i]"
   ]
  },
  {
   "cell_type": "code",
   "execution_count": 100,
   "id": "b8be3b58-1b59-4ac3-b5e0-2e4db668ab56",
   "metadata": {},
   "outputs": [
    {
     "data": {
      "application/vnd.jupyter.widget-view+json": {
       "model_id": "2cdd84e38b46448489ba30a1e9cdef93",
       "version_major": 2,
       "version_minor": 0
      },
      "text/plain": [
       "interactive(children=(Dropdown(description='Axis:', index=1, options=(('Coronal', 0), ('Transverse', 1), ('Sag…"
      ]
     },
     "metadata": {},
     "output_type": "display_data"
    }
   ],
   "source": [
    "volumes_visualization([nissl_plus_boundaries, nissl, new_nissl_right], [False, False, False])"
   ]
  },
  {
   "cell_type": "markdown",
   "id": "2401ab38-7a5c-407b-be73-db89a3331477",
   "metadata": {},
   "source": [
    "Saving the resulting symmetric nissl volume"
   ]
  },
  {
   "cell_type": "code",
   "execution_count": 101,
   "id": "5a1a96ed-3642-48de-80ca-30616472c934",
   "metadata": {},
   "outputs": [
    {
     "name": "stderr",
     "output_type": "stream",
     "text": [
      "/usr/local/lib/python3.7/dist-packages/nrrd/writer.py:323: DeprecationWarning:\n",
      "\n",
      "tostring() is deprecated. Use tobytes() instead.\n",
      "\n",
      "/usr/local/lib/python3.7/dist-packages/nrrd/writer.py:323: DeprecationWarning:\n",
      "\n",
      "tostring() is deprecated. Use tobytes() instead.\n",
      "\n"
     ]
    }
   ],
   "source": [
    "nrrd.write(\"nissl1_symmetric_always_left_hemisphere.nrrd\", new_nissl_right, header=nissl_header)\n",
    "nrrd.write(\"nissl1_symmetric_best_entropy.nrrd\", new_nissl, header=nissl_header)"
   ]
  },
  {
   "cell_type": "markdown",
   "id": "c00fca8b-354a-4185-9ce3-3fc68242af87",
   "metadata": {},
   "source": [
    "Choosing always the same side keeps the final volume smoother while choosing the best entropy version might introduce misalignment \n",
    "\n",
    "(especially visible on transverse axis when the sequence of choice is left - right - left, right introducing the misalignment)"
   ]
  },
  {
   "cell_type": "markdown",
   "id": "bd746f2f-3df4-41c8-bdd3-5f409963f22a",
   "metadata": {},
   "source": [
    "# Comparison between the 2 Nissl volumes"
   ]
  },
  {
   "cell_type": "code",
   "execution_count": 103,
   "id": "fd442eb3-9c17-4fb2-a1f1-1e9228ecf1b3",
   "metadata": {},
   "outputs": [],
   "source": [
    "nissl_1, _ = nrrd.read(\"nissl1_symmetric_always_left_hemisphere.nrrd\")\n",
    "nissl, _ = nrrd.read(\"nissl_symmetric_always_left_hemisphere.nrrd\")"
   ]
  },
  {
   "cell_type": "code",
   "execution_count": null,
   "id": "51e9efb8-6de7-4014-9ed3-b7ee47be87c5",
   "metadata": {},
   "outputs": [],
   "source": [
    "conditional_entropy(nissl_1, ccfv2, value_range=(nissl_1.min(), nissl_1.max()))"
   ]
  },
  {
   "cell_type": "code",
   "execution_count": null,
   "id": "ca2771b2-9379-467d-990b-1dfe7089ef9b",
   "metadata": {},
   "outputs": [],
   "source": [
    "conditional_entropy(nissl, ccfv2, value_range=(nissl.min(), nissl.max()))"
   ]
  },
  {
   "cell_type": "code",
   "execution_count": null,
   "id": "8db21ab6-f49e-46db-8fb2-a58df4c07b32",
   "metadata": {},
   "outputs": [],
   "source": []
  }
 ],
 "metadata": {
  "kernelspec": {
   "display_name": "Python 3",
   "language": "python",
   "name": "python3"
  },
  "language_info": {
   "codemirror_mode": {
    "name": "ipython",
    "version": 3
   },
   "file_extension": ".py",
   "mimetype": "text/x-python",
   "name": "python",
   "nbconvert_exporter": "python",
   "pygments_lexer": "ipython3",
   "version": "3.7.5"
  }
 },
 "nbformat": 4,
 "nbformat_minor": 5
}
